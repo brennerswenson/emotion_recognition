{
 "cells": [
  {
   "cell_type": "code",
   "execution_count": 1,
   "id": "94eb9d33",
   "metadata": {},
   "outputs": [],
   "source": [
    "import logging\n",
    "import os\n",
    "\n",
    "import numpy as np\n",
    "import torch\n",
    "import torchvision\n",
    "import torchvision.transforms as transforms\n",
    "from matplotlib import pyplot as plt\n",
    "from skimage import img_as_ubyte, color, feature, exposure\n",
    "from sklearn.model_selection import train_test_split\n",
    "from torch.utils import data\n",
    "from torchvision import datasets\n",
    "from tqdm import tqdm\n",
    "\n",
    "logging.basicConfig(level=logging.INFO)\n",
    "logger = logging.getLogger(__name__)\n",
    "\n",
    "    \n",
    "import torch.optim as optim\n",
    "\n",
    "from torch import nn\n",
    "import torch.nn.functional as F"
   ]
  },
  {
   "cell_type": "code",
   "execution_count": 2,
   "id": "c84818ee",
   "metadata": {},
   "outputs": [],
   "source": [
    "\n",
    "\n",
    "# face_cascade = cv2.CascadeClassifier(cv2.data.haarcascades + 'haarcascade_frontalface_default.xml')\n",
    "\n",
    "# img = cv2.imread('WIN_20201209_17_25_54_Pro.jpg')\n",
    "# gray = cv2.cvtColor(img, cv2.COLOR_BGR2GRAY)\n",
    "\n",
    "# faces = face_cascade.detectMultiScale(gray, 1.3, 5)\n",
    "# for (x,y,w,h) in faces:\n",
    "#     img = cv2.rectangle(img,(x,y),(x+w,y+h),(255,0,0),2)\n",
    "#     roi_gray = gray[y:y+h, x:x+w]\n",
    "#     roi_color = img[y:y+h, x:x+w]\n",
    "\n",
    "# cv2.imshow('img',img)\n",
    "# cv2.waitKey(0)\n",
    "# cv2.destroyAllWindows()"
   ]
  },
  {
   "cell_type": "code",
   "execution_count": 3,
   "id": "8e3ac38c",
   "metadata": {},
   "outputs": [],
   "source": [
    "class HOG:\n",
    "    def __init__(self, orientations, pix_per_cell, cells_per_block, multichannel):\n",
    "        self.orientations = orientations\n",
    "        self.pix_per_cell = pix_per_cell\n",
    "        self.cells_per_block = cells_per_block\n",
    "        self.multichannel = multichannel\n",
    "\n",
    "    def fit(self, X):\n",
    "        return self\n",
    "\n",
    "    def transform(self, X):\n",
    "        hog_arr = list()\n",
    "\n",
    "        logger.info(f\"Beginning HOG transformations for {len(X)} images\")\n",
    "        for i in tqdm(range(len(X))):\n",
    "            img = img_as_ubyte(color.rgb2gray(X[i]))\n",
    "            HOG_des = feature.hog(\n",
    "                img,\n",
    "                orientations=self.orientations,\n",
    "                pixels_per_cell=self.pix_per_cell,\n",
    "                cells_per_block=self.cells_per_block,\n",
    "                feature_vector=True,\n",
    "                multichannel=False\n",
    "            )\n",
    "            hog_arr.append(HOG_des)\n",
    "        return hog_arr\n",
    "\n",
    "    def fit_transform(self, X):\n",
    "        return self.fit(X).transform(X)\n",
    "\n",
    "    def __call__(self, x):\n",
    "        HOG_des = feature.hog(\n",
    "            x,\n",
    "            orientations=self.orientations,\n",
    "            pixels_per_cell=self.pix_per_cell,\n",
    "            cells_per_block=self.cells_per_block,\n",
    "            feature_vector=True,\n",
    "            multichannel=True\n",
    "        )\n",
    "        return HOG_des"
   ]
  },
  {
   "cell_type": "code",
   "execution_count": 4,
   "id": "e05af596",
   "metadata": {},
   "outputs": [],
   "source": [
    "path = '../cw_dataset'\n",
    "\n",
    "transform_dict = {\n",
    "    # the training transforms contain data augmentation\n",
    "    \"train_hog\": transforms.Compose(\n",
    "        [\n",
    "        transforms.RandomPerspective(distortion_scale=0.25),\n",
    "        transforms.ColorJitter(0.50, 0.50, 0.05, 0.05),\n",
    "        transforms.GaussianBlur(7, (0.01, 2)),\n",
    "        transforms.RandomGrayscale(p=0.5),\n",
    "        transforms.RandomHorizontalFlip(),\n",
    "        transforms.RandomRotation(15, interpolation=transforms.functional.InterpolationMode('nearest')),\n",
    "        transforms.ToTensor(),\n",
    "        transforms.RandomErasing(),\n",
    "        ]\n",
    "    ),\n",
    "    \"val_hog\": transforms.Compose([transforms.ToTensor()]),\n",
    "    \"train_cnn\": transforms.Compose(\n",
    "        [\n",
    "        transforms.RandomPerspective(distortion_scale=0.25),\n",
    "        transforms.ColorJitter(0.75, 0.75, 0.25, 0.25),\n",
    "        transforms.GaussianBlur(7, (0.001, 2)),\n",
    "        transforms.RandomGrayscale(p=0.5),\n",
    "        transforms.RandomHorizontalFlip(),\n",
    "        transforms.RandomRotation(15, interpolation=transforms.functional.InterpolationMode('bilinear'), ),\n",
    "        transforms.ToTensor(),\n",
    "        transforms.RandomErasing(p=0.25),\n",
    "\n",
    "        ]\n",
    "    ),\n",
    "}\n",
    "ds = datasets.ImageFolder(path + \"/\" + 'train', transform=transform_dict['train_cnn'])"
   ]
  },
  {
   "cell_type": "code",
   "execution_count": 5,
   "id": "b6e03960",
   "metadata": {},
   "outputs": [],
   "source": [
    "images = list()\n",
    "labels = list()\n",
    "\n",
    "for img, label in ds:\n",
    "    img = img.permute(1, 2, 0).numpy()\n",
    "    label = int(label)\n",
    "    images.append(img)\n",
    "    labels.append(label)"
   ]
  },
  {
   "cell_type": "code",
   "execution_count": 29,
   "id": "eaa5b00c",
   "metadata": {},
   "outputs": [
    {
     "data": {
      "text/plain": [
       "<matplotlib.image.AxesImage at 0x1a738fc7f10>"
      ]
     },
     "execution_count": 29,
     "metadata": {},
     "output_type": "execute_result"
    },
    {
     "data": {
      "image/png": "[encoded data removed]",
      "text/plain": [
       "<Figure size 432x288 with 1 Axes>"
      ]
     },
     "metadata": {
      "needs_background": "light"
     },
     "output_type": "display_data"
    }
   ],
   "source": [
    "import random\n",
    "img = images[random.randint(0, len(images))]\n",
    "plt.imshow(img)"
   ]
  },
  {
   "cell_type": "code",
   "execution_count": 84,
   "id": "2120e88d",
   "metadata": {},
   "outputs": [],
   "source": [
    "HOG_des = feature.hog(\n",
    "    img,\n",
    "    orientations=16,\n",
    "    pixels_per_cell=(8,8),\n",
    "    cells_per_block=(1,1),\n",
    "    feature_vector=True,\n",
    "    multichannel=True\n",
    ")"
   ]
  },
  {
   "cell_type": "code",
   "execution_count": 89,
   "id": "50fe0759",
   "metadata": {},
   "outputs": [
    {
     "data": {
      "image/png": "[encoded data removed]",
      "text/plain": [
       "<Figure size 576x288 with 2 Axes>"
      ]
     },
     "metadata": {
      "needs_background": "light"
     },
     "output_type": "display_data"
    }
   ],
   "source": [
    "fd, hog_image = feature.hog(img, orientations=16, pixels_per_cell=(3, 3),\n",
    "                    cells_per_block=(1, 1), visualize=True, multichannel=True)\n",
    "\n",
    "fig, (ax1, ax2) = plt.subplots(1, 2, figsize=(8, 4), sharex=True, sharey=True)\n",
    "\n",
    "ax1.axis('off')\n",
    "ax1.imshow(img, cmap=plt.cm.gray)\n",
    "ax1.set_title('Input image')\n",
    "\n",
    "# Rescale histogram for better display\n",
    "hog_image_rescaled = exposure.rescale_intensity(hog_image, in_range=(0, 10))\n",
    "\n",
    "ax2.axis('off')\n",
    "ax2.imshow(hog_image_rescaled, cmap=plt.cm.gray)\n",
    "ax2.set_title('Histogram of Oriented Gradients')\n",
    "plt.show()"
   ]
  },
  {
   "cell_type": "code",
   "execution_count": 9,
   "id": "2240c1db",
   "metadata": {},
   "outputs": [],
   "source": [
    "def load_data(path, subset, method, mode=\"sklearn\"):\n",
    "    if not os.path.exists(path):\n",
    "        logger.info(\"Please download training/testing data to CW_Dataset directory\")\n",
    "        return None\n",
    "    \n",
    "    key = subset + \"_\" + method\n",
    "    \n",
    "    transform_dict = {\n",
    "        # the training transforms contain data augmentation\n",
    "        \"train_hog\": transforms.Compose(\n",
    "            [\n",
    "                transforms.RandomPerspective(distortion_scale=0.15),\n",
    "                transforms.ColorJitter(0.25, 0.15, 0.05, 0.05),\n",
    "                transforms.GaussianBlur(7, (0.01, 0.5)),\n",
    "                transforms.RandomGrayscale(p=0.5),\n",
    "                transforms.RandomHorizontalFlip(),\n",
    "                transforms.RandomResizedCrop(100, (0.85, 1)),\n",
    "                HOG(orientations=8, pix_per_cell=(4, 4), cells_per_block=(1,1), multichannel=True)\n",
    "            ]\n",
    "        ),\n",
    "        \"val_hog\": transforms.Compose([transforms.ToTensor()]),\n",
    "        \"train_cnn\": transforms.Compose(\n",
    "            [\n",
    "                transforms.RandomPerspective(distortion_scale=0.10),\n",
    "                transforms.ColorJitter(0.50, 0.50, 0.05, 0.05),\n",
    "                transforms.GaussianBlur(7, (0.01, 1)),\n",
    "                transforms.RandomGrayscale(p=0.5),\n",
    "                transforms.RandomRotation(degrees=30),\n",
    "                transforms.RandomHorizontalFlip(),\n",
    "                transforms.RandomResizedCrop(100, (0.85, 1)),\n",
    "            ]\n",
    "        ),\n",
    "        \"test_hog\": transforms.Compose([transforms.ToTensor()]),\n",
    "    }\n",
    "\n",
    "    dataset = datasets.ImageFolder(path + \"/\" + subset, transform=transform_dict[key])\n",
    "\n",
    "    if mode == \"sklearn\":\n",
    "        images = list()\n",
    "        labels = list()\n",
    "\n",
    "        for img, label in dataset:\n",
    "            img = img.permute(1, 2, 0).numpy()\n",
    "            label = int(label)\n",
    "            images.append(img)\n",
    "            labels.append(label)\n",
    "        logger.info(f\"Successfully loaded {len(images)} images\")\n",
    "        return images, labels\n",
    "    else:\n",
    "        return data.DataLoader(dataset, batch_size=64, shuffle=True, num_workers=0)\n",
    "\n",
    "\n",
    "class EmotionRecMLP(nn.Module):\n",
    "\n",
    "    def __init__(self, input_size, hidden_size_1, hidden_size_2, hidden_size_3, num_outputs):\n",
    "        super(EmotionRecMLP, self).__init__()\n",
    "\n",
    "        self.input_size = input_size\n",
    "        self.hidden_size_1 = hidden_size_1\n",
    "        self.hidden_size_2 = hidden_size_2\n",
    "        self.hidden_size_3 = hidden_size_3\n",
    "        self.num_outputs = num_outputs\n",
    "        self.dropout = nn.Dropout(p=0.1)\n",
    "\n",
    "        self.fc1 = nn.Linear(self.input_size, self.hidden_size_1)\n",
    "        self.fc2 = nn.Linear(self.hidden_size_1, self.hidden_size_2)\n",
    "        self.fc3 = nn.Linear(self.hidden_size_2, self.hidden_size_3)\n",
    "        self.fc4 = nn.Linear(self.hidden_size_3, self.num_outputs)\n",
    "\n",
    "    def forward(self, x):\n",
    "        x = self.dropout(F.relu(self.fc1(x)))\n",
    "        x = self.dropout(F.relu(self.fc2(x)))\n",
    "        x = self.dropout(F.relu(self.fc3(x)))\n",
    "        x = self.fc4(x)\n",
    "        return x"
   ]
  },
  {
   "cell_type": "code",
   "execution_count": 10,
   "id": "67d70849",
   "metadata": {},
   "outputs": [
    {
     "name": "stderr",
     "output_type": "stream",
     "text": [
      "INFO:__main__:Please download training/testing data to CW_Dataset directory\n"
     ]
    }
   ],
   "source": [
    "dl = load_data(\"../../CW_Dataset\", \"train\", method='cnn', mode='pytorch')"
   ]
  },
  {
   "cell_type": "code",
   "execution_count": 11,
   "id": "d805516a",
   "metadata": {},
   "outputs": [
    {
     "ename": "TypeError",
     "evalue": "'NoneType' object is not iterable",
     "output_type": "error",
     "traceback": [
      "\u001b[1;31m---------------------------------------------------------------------------\u001b[0m",
      "\u001b[1;31mTypeError\u001b[0m                                 Traceback (most recent call last)",
      "\u001b[1;32m<ipython-input-11-e63a509f2170>\u001b[0m in \u001b[0;36m<module>\u001b[1;34m\u001b[0m\n\u001b[1;32m----> 1\u001b[1;33m \u001b[0mnext\u001b[0m\u001b[1;33m(\u001b[0m\u001b[0miter\u001b[0m\u001b[1;33m(\u001b[0m\u001b[0mdl\u001b[0m\u001b[1;33m)\u001b[0m\u001b[1;33m)\u001b[0m\u001b[1;33m[\u001b[0m\u001b[1;36m0\u001b[0m\u001b[1;33m]\u001b[0m\u001b[1;33m\u001b[0m\u001b[1;33m\u001b[0m\u001b[0m\n\u001b[0m\u001b[0;32m      2\u001b[0m \u001b[1;33m\u001b[0m\u001b[0m\n",
      "\u001b[1;31mTypeError\u001b[0m: 'NoneType' object is not iterable"
     ]
    }
   ],
   "source": [
    "next(iter(dl))[0]"
   ]
  },
  {
   "cell_type": "code",
   "execution_count": null,
   "id": "461caae3",
   "metadata": {},
   "outputs": [],
   "source": [
    "# subset = 'train'\n",
    "# path = \"../../CW_Dataset\"\n",
    "# transform_dict = {\n",
    "#     # the training transforms contain data augmentation\n",
    "#     \"train\": transforms.Compose(\n",
    "#         [\n",
    "#             transforms.RandomPerspective(distortion_scale=0.15),\n",
    "#             transforms.ColorJitter(0.25, 0.15, 0.05, 0.05),\n",
    "#             transforms.GaussianBlur(7, (0.01, 0.5)),\n",
    "#             transforms.RandomGrayscale(p=0.5),\n",
    "#             transforms.RandomHorizontalFlip(),\n",
    "#             transforms.RandomResizedCrop(100, (0.85, 1)),\n",
    "#             transforms.ToTensor(),\n",
    "#         ]\n",
    "#     ),\n",
    "#     \"val\": transforms.Compose([transforms.ToTensor()]),\n",
    "#     \"test\": transforms.Compose([transforms.ToTensor()]),\n",
    "# }\n",
    "\n",
    "# dataset = datasets.ImageFolder(path + \"/\" + subset, transform=transform_dict[subset])\n",
    "# dl = data.DataLoader(dataset, batch_size=10, shuffle=True, num_workers=2)"
   ]
  },
  {
   "cell_type": "code",
   "execution_count": 12,
   "id": "c2c17345",
   "metadata": {},
   "outputs": [
    {
     "ename": "TypeError",
     "evalue": "'NoneType' object is not iterable",
     "output_type": "error",
     "traceback": [
      "\u001b[1;31m---------------------------------------------------------------------------\u001b[0m",
      "\u001b[1;31mTypeError\u001b[0m                                 Traceback (most recent call last)",
      "\u001b[1;32m<ipython-input-12-b1d34206dcfb>\u001b[0m in \u001b[0;36m<module>\u001b[1;34m\u001b[0m\n\u001b[0;32m      4\u001b[0m     \u001b[0mplt\u001b[0m\u001b[1;33m.\u001b[0m\u001b[0mshow\u001b[0m\u001b[1;33m(\u001b[0m\u001b[1;33m)\u001b[0m\u001b[1;33m\u001b[0m\u001b[1;33m\u001b[0m\u001b[0m\n\u001b[0;32m      5\u001b[0m \u001b[1;33m\u001b[0m\u001b[0m\n\u001b[1;32m----> 6\u001b[1;33m \u001b[0mimages\u001b[0m\u001b[1;33m,\u001b[0m \u001b[0mlabels\u001b[0m \u001b[1;33m=\u001b[0m \u001b[0mnext\u001b[0m\u001b[1;33m(\u001b[0m\u001b[0miter\u001b[0m\u001b[1;33m(\u001b[0m\u001b[0mdl\u001b[0m\u001b[1;33m)\u001b[0m\u001b[1;33m)\u001b[0m\u001b[1;33m\u001b[0m\u001b[1;33m\u001b[0m\u001b[0m\n\u001b[0m\u001b[0;32m      7\u001b[0m \u001b[0mimshow\u001b[0m\u001b[1;33m(\u001b[0m\u001b[0mtorchvision\u001b[0m\u001b[1;33m.\u001b[0m\u001b[0mutils\u001b[0m\u001b[1;33m.\u001b[0m\u001b[0mmake_grid\u001b[0m\u001b[1;33m(\u001b[0m\u001b[0mimages\u001b[0m\u001b[1;33m)\u001b[0m\u001b[1;33m)\u001b[0m\u001b[1;33m\u001b[0m\u001b[1;33m\u001b[0m\u001b[0m\n\u001b[0;32m      8\u001b[0m \u001b[1;33m\u001b[0m\u001b[0m\n",
      "\u001b[1;31mTypeError\u001b[0m: 'NoneType' object is not iterable"
     ]
    }
   ],
   "source": [
    "def imshow(img):   # Unnormalize: back to range [0, 1] just for showing the images\n",
    "    npimg = img.numpy()\n",
    "    plt.imshow(np.transpose(npimg, (1, 2, 0)))     # Reshape: C, H, W -> H, W, C\n",
    "    plt.show()\n",
    "\n",
    "images, labels = next(iter(dl))\n",
    "imshow(torchvision.utils.make_grid(images))"
   ]
  },
  {
   "cell_type": "code",
   "execution_count": 14,
   "id": "6e124f15",
   "metadata": {},
   "outputs": [
    {
     "ename": "NameError",
     "evalue": "name 'X_train' is not defined",
     "output_type": "error",
     "traceback": [
      "\u001b[1;31m---------------------------------------------------------------------------\u001b[0m",
      "\u001b[1;31mNameError\u001b[0m                                 Traceback (most recent call last)",
      "\u001b[1;32m<ipython-input-14-d3d6a2bee3c2>\u001b[0m in \u001b[0;36m<module>\u001b[1;34m\u001b[0m\n\u001b[1;32m----> 1\u001b[1;33m \u001b[0mplt\u001b[0m\u001b[1;33m.\u001b[0m\u001b[0mimshow\u001b[0m\u001b[1;33m(\u001b[0m\u001b[0mX_train\u001b[0m\u001b[1;33m[\u001b[0m\u001b[1;36m20\u001b[0m\u001b[1;33m]\u001b[0m\u001b[1;33m)\u001b[0m\u001b[1;33m\u001b[0m\u001b[1;33m\u001b[0m\u001b[0m\n\u001b[0m\u001b[0;32m      2\u001b[0m \u001b[1;33m\u001b[0m\u001b[0m\n",
      "\u001b[1;31mNameError\u001b[0m: name 'X_train' is not defined"
     ]
    }
   ],
   "source": [
    "plt.imshow(X_train[20])"
   ]
  },
  {
   "cell_type": "code",
   "execution_count": 15,
   "id": "4f8fb490",
   "metadata": {},
   "outputs": [
    {
     "ename": "NameError",
     "evalue": "name 'X_train' is not defined",
     "output_type": "error",
     "traceback": [
      "\u001b[1;31m---------------------------------------------------------------------------\u001b[0m",
      "\u001b[1;31mNameError\u001b[0m                                 Traceback (most recent call last)",
      "\u001b[1;32m<ipython-input-15-d3d6a2bee3c2>\u001b[0m in \u001b[0;36m<module>\u001b[1;34m\u001b[0m\n\u001b[1;32m----> 1\u001b[1;33m \u001b[0mplt\u001b[0m\u001b[1;33m.\u001b[0m\u001b[0mimshow\u001b[0m\u001b[1;33m(\u001b[0m\u001b[0mX_train\u001b[0m\u001b[1;33m[\u001b[0m\u001b[1;36m20\u001b[0m\u001b[1;33m]\u001b[0m\u001b[1;33m)\u001b[0m\u001b[1;33m\u001b[0m\u001b[1;33m\u001b[0m\u001b[0m\n\u001b[0m\u001b[0;32m      2\u001b[0m \u001b[1;33m\u001b[0m\u001b[0m\n",
      "\u001b[1;31mNameError\u001b[0m: name 'X_train' is not defined"
     ]
    }
   ],
   "source": [
    "plt.imshow(X_train[20])"
   ]
  },
  {
   "cell_type": "code",
   "execution_count": 117,
   "id": "85231b24",
   "metadata": {},
   "outputs": [],
   "source": [
    "hog = HOG(orientations=8, pix_per_cell=(3, 3), cells_per_block=(1,1), multichannel=True)"
   ]
  },
  {
   "cell_type": "code",
   "execution_count": 118,
   "id": "9b76edc9",
   "metadata": {},
   "outputs": [
    {
     "name": "stderr",
     "output_type": "stream",
     "text": [
      "INFO:__main__:Beginning HOG transformations for 9816 images\n",
      "100%|██████████| 9816/9816 [03:34<00:00, 45.68it/s]\n"
     ]
    }
   ],
   "source": [
    "hog_arr = hog.fit_transform(X_train)"
   ]
  },
  {
   "cell_type": "code",
   "execution_count": 116,
   "id": "731a98a6",
   "metadata": {},
   "outputs": [
    {
     "data": {
      "image/png": "[encoded data removed]",
      "text/plain": [
       "<Figure size 576x288 with 2 Axes>"
      ]
     },
     "metadata": {
      "needs_background": "light"
     },
     "output_type": "display_data"
    }
   ],
   "source": [
    "# image = X_train[0]\n",
    "\n",
    "# fd, hog_image = feature.hog(\n",
    "#                 image,\n",
    "#                 orientations=8,\n",
    "#                 pixels_per_cell=(3,3),\n",
    "#                 cells_per_block=(1,1),\n",
    "#                 feature_vector=False,\n",
    "#                 visualize=True,\n",
    "#                 multichannel=True\n",
    "#             )\n",
    "\n",
    "# fig, (ax1, ax2) = plt.subplots(1, 2, figsize=(8, 4), sharex=True, sharey=True)\n",
    "\n",
    "# ax1.axis('off')\n",
    "# ax1.imshow(image, cmap=plt.cm.gray)\n",
    "# ax1.set_title('Input image')\n",
    "\n",
    "# # Rescale histogram for better display\n",
    "# hog_image_rescaled = exposure.rescale_intensity(hog_image, in_range=(0, 10))\n",
    "\n",
    "# ax2.axis('off')\n",
    "# ax2.imshow(hog_image_rescaled, cmap=plt.cm.gray)\n",
    "# ax2.set_title('Histogram of Oriented Gradients')\n",
    "# plt.show()"
   ]
  },
  {
   "cell_type": "code",
   "execution_count": 119,
   "id": "e7beffe0",
   "metadata": {},
   "outputs": [],
   "source": [
    "tensor_X = torch.tensor(hog_arr).float()"
   ]
  },
  {
   "cell_type": "code",
   "execution_count": 120,
   "id": "64504ed1",
   "metadata": {},
   "outputs": [],
   "source": [
    "tensor_y = torch.tensor(y_train)"
   ]
  },
  {
   "cell_type": "code",
   "execution_count": 125,
   "id": "60da4b39",
   "metadata": {},
   "outputs": [],
   "source": [
    "my_dataset = data.TensorDataset(tensor_X, tensor_y)\n",
    "my_dataloader = data.DataLoader(my_dataset, batch_size=2)"
   ]
  },
  {
   "cell_type": "code",
   "execution_count": 126,
   "id": "c1c7969b",
   "metadata": {},
   "outputs": [],
   "source": [
    "device = torch.device(\"cuda:0\" if torch.cuda.is_available() else \"cpu\")"
   ]
  },
  {
   "cell_type": "code",
   "execution_count": 127,
   "id": "52cae40e",
   "metadata": {},
   "outputs": [
    {
     "data": {
      "text/plain": [
       "(8712,)"
      ]
     },
     "execution_count": 127,
     "metadata": {},
     "output_type": "execute_result"
    }
   ],
   "source": [
    "hog_arr[0].shape"
   ]
  },
  {
   "cell_type": "code",
   "execution_count": 128,
   "id": "4d126233",
   "metadata": {
    "collapsed": true,
    "jupyter": {
     "outputs_hidden": true
    },
    "tags": []
   },
   "outputs": [
    {
     "name": "stderr",
     "output_type": "stream",
     "text": [
      "INFO:__main__:[1,     1] loss: 0.06129\n",
      "INFO:__main__:[1,    33] loss: 0.46907\n",
      "INFO:__main__:[1,    65] loss: 0.00000\n",
      "INFO:__main__:[1,    97] loss: 0.00000\n",
      "INFO:__main__:[1,   129] loss: 0.00000\n",
      "INFO:__main__:[1,   161] loss: 0.00000\n",
      "INFO:__main__:[1,   193] loss: 0.00000\n",
      "INFO:__main__:[1,   225] loss: 0.00000\n",
      "INFO:__main__:[1,   257] loss: 0.00000\n",
      "INFO:__main__:[1,   289] loss: 0.00000\n",
      "INFO:__main__:[1,   321] loss: 0.00000\n",
      "INFO:__main__:[1,   353] loss: 0.00000\n",
      "INFO:__main__:[1,   385] loss: 0.00000\n",
      "INFO:__main__:[1,   417] loss: 0.00000\n",
      "INFO:__main__:[1,   449] loss: 0.00000\n",
      "INFO:__main__:[1,   481] loss: 0.00000\n",
      "INFO:__main__:[1,   513] loss: 0.00000\n",
      "INFO:__main__:[1,   545] loss: 2.19479\n",
      "INFO:__main__:[1,   577] loss: 0.00000\n",
      "INFO:__main__:[1,   609] loss: 0.00000\n",
      "INFO:__main__:[1,   641] loss: 2.44549\n",
      "INFO:__main__:[1,   673] loss: 0.06865\n",
      "INFO:__main__:[1,   705] loss: 0.00000\n",
      "INFO:__main__:[1,   737] loss: 0.00000\n",
      "INFO:__main__:[1,   769] loss: 0.00000\n",
      "INFO:__main__:[1,   801] loss: 0.00000\n",
      "INFO:__main__:[1,   833] loss: 0.00000\n",
      "INFO:__main__:[1,   865] loss: 0.00000\n",
      "INFO:__main__:[1,   897] loss: 0.00000\n",
      "INFO:__main__:[1,   929] loss: 1.97637\n",
      "INFO:__main__:[1,   961] loss: 0.00032\n",
      "INFO:__main__:[1,   993] loss: 0.00000\n",
      "INFO:__main__:[1,  1025] loss: 0.00000\n",
      "INFO:__main__:[1,  1057] loss: 0.00000\n",
      "INFO:__main__:[1,  1089] loss: 0.00000\n",
      "INFO:__main__:[1,  1121] loss: 0.00000\n",
      "INFO:__main__:[1,  1153] loss: 0.00000\n",
      "INFO:__main__:[1,  1185] loss: 0.00000\n",
      "INFO:__main__:[1,  1217] loss: 0.00000\n",
      "INFO:__main__:[1,  1249] loss: 0.00000\n",
      "INFO:__main__:[1,  1281] loss: 0.00000\n",
      "INFO:__main__:[1,  1313] loss: 0.00000\n",
      "INFO:__main__:[1,  1345] loss: 0.00000\n",
      "INFO:__main__:[1,  1377] loss: 0.00000\n",
      "INFO:__main__:[1,  1409] loss: 0.00000\n",
      "INFO:__main__:[1,  1441] loss: 0.00000\n",
      "INFO:__main__:[1,  1473] loss: 0.00000\n",
      "INFO:__main__:[1,  1505] loss: 0.00000\n",
      "INFO:__main__:[1,  1537] loss: 0.00000\n",
      "INFO:__main__:[1,  1569] loss: 0.00000\n",
      "INFO:__main__:[1,  1601] loss: 0.00000\n",
      "INFO:__main__:[1,  1633] loss: 0.00000\n",
      "INFO:__main__:[1,  1665] loss: 0.00000\n",
      "INFO:__main__:[1,  1697] loss: 0.00000\n",
      "INFO:__main__:[1,  1729] loss: 0.00000\n",
      "INFO:__main__:[1,  1761] loss: 0.00000\n",
      "INFO:__main__:[1,  1793] loss: 0.00000\n",
      "INFO:__main__:[1,  1825] loss: 0.00000\n",
      "INFO:__main__:[1,  1857] loss: 0.00000\n",
      "INFO:__main__:[1,  1889] loss: 0.00000\n",
      "INFO:__main__:[1,  1921] loss: 0.00000\n",
      "INFO:__main__:[1,  1953] loss: 0.00000\n",
      "INFO:__main__:[1,  1985] loss: 0.00000\n",
      "INFO:__main__:[1,  2017] loss: 0.00000\n",
      "INFO:__main__:[1,  2049] loss: 0.00000\n",
      "INFO:__main__:[1,  2081] loss: 0.00000\n",
      "INFO:__main__:[1,  2113] loss: 0.00000\n",
      "INFO:__main__:[1,  2145] loss: 0.00000\n",
      "INFO:__main__:[1,  2177] loss: 0.00000\n",
      "INFO:__main__:[1,  2209] loss: 0.00000\n",
      "INFO:__main__:[1,  2241] loss: 0.00000\n",
      "INFO:__main__:[1,  2273] loss: 0.00000\n",
      "INFO:__main__:[1,  2305] loss: 0.00000\n",
      "INFO:__main__:[1,  2337] loss: 0.00000\n",
      "INFO:__main__:[1,  2369] loss: 0.00000\n",
      "INFO:__main__:[1,  2401] loss: 0.00000\n",
      "INFO:__main__:[1,  2433] loss: 0.00000\n",
      "INFO:__main__:[1,  2465] loss: 0.00000\n",
      "INFO:__main__:[1,  2497] loss: 0.00000\n",
      "INFO:__main__:[1,  2529] loss: 0.00000\n",
      "INFO:__main__:[1,  2561] loss: 0.00000\n",
      "INFO:__main__:[1,  2593] loss: 0.00000\n",
      "INFO:__main__:[1,  2625] loss: 0.00000\n",
      "INFO:__main__:[1,  2657] loss: 0.00000\n",
      "INFO:__main__:[1,  2689] loss: 0.00000\n",
      "INFO:__main__:[1,  2721] loss: 0.00000\n",
      "INFO:__main__:[1,  2753] loss: 0.00000\n",
      "INFO:__main__:[1,  2785] loss: 0.00000\n",
      "INFO:__main__:[1,  2817] loss: 0.00000\n",
      "INFO:__main__:[1,  2849] loss: 2.01721\n",
      "INFO:__main__:[1,  2881] loss: 0.00000\n",
      "INFO:__main__:[1,  2913] loss: 0.00000\n",
      "INFO:__main__:[1,  2945] loss: 0.00000\n",
      "INFO:__main__:[1,  2977] loss: 0.00000\n",
      "INFO:__main__:[1,  3009] loss: 0.00000\n",
      "INFO:__main__:[1,  3041] loss: 0.00000\n",
      "INFO:__main__:[1,  3073] loss: 0.00000\n",
      "INFO:__main__:[1,  3105] loss: 0.00000\n",
      "INFO:__main__:[1,  3137] loss: 0.00000\n",
      "INFO:__main__:[1,  3169] loss: 0.00000\n",
      "INFO:__main__:[1,  3201] loss: 0.00000\n",
      "INFO:__main__:[1,  3233] loss: 0.00000\n",
      "INFO:__main__:[1,  3265] loss: 0.00000\n",
      "INFO:__main__:[1,  3297] loss: 0.00000\n",
      "INFO:__main__:[1,  3329] loss: 0.00000\n",
      "INFO:__main__:[1,  3361] loss: 0.00000\n",
      "INFO:__main__:[1,  3393] loss: 0.00000\n",
      "INFO:__main__:[1,  3425] loss: 0.00000\n",
      "INFO:__main__:[1,  3457] loss: 0.00000\n",
      "INFO:__main__:[1,  3489] loss: 0.00000\n",
      "INFO:__main__:[1,  3521] loss: 0.00000\n",
      "INFO:__main__:[1,  3553] loss: 0.00000\n",
      "INFO:__main__:[1,  3585] loss: 0.00000\n",
      "INFO:__main__:[1,  3617] loss: 2.48725\n",
      "INFO:__main__:[1,  3649] loss: 0.08617\n",
      "INFO:__main__:[1,  3681] loss: 0.00000\n",
      "INFO:__main__:[1,  3713] loss: 0.00000\n",
      "INFO:__main__:[1,  3745] loss: 0.00000\n",
      "INFO:__main__:[1,  3777] loss: 0.00000\n",
      "INFO:__main__:[1,  3809] loss: 0.00000\n",
      "INFO:__main__:[1,  3841] loss: 0.00000\n",
      "INFO:__main__:[1,  3873] loss: 0.00000\n",
      "INFO:__main__:[1,  3905] loss: 1.24219\n",
      "INFO:__main__:[1,  3937] loss: 0.60025\n",
      "INFO:__main__:[1,  3969] loss: 0.00000\n",
      "INFO:__main__:[1,  4001] loss: 0.00000\n",
      "INFO:__main__:[1,  4033] loss: 0.00000\n",
      "INFO:__main__:[1,  4065] loss: 0.00000\n",
      "INFO:__main__:[1,  4097] loss: 0.00000\n",
      "INFO:__main__:[1,  4129] loss: 0.00000\n",
      "INFO:__main__:[1,  4161] loss: 0.00000\n",
      "INFO:__main__:[1,  4193] loss: 0.00000\n",
      "INFO:__main__:[1,  4225] loss: 0.00000\n",
      "INFO:__main__:[1,  4257] loss: 0.00000\n",
      "INFO:__main__:[1,  4289] loss: 0.00000\n",
      "INFO:__main__:[1,  4321] loss: 0.00000\n",
      "INFO:__main__:[1,  4353] loss: 0.00000\n",
      "INFO:__main__:[1,  4385] loss: 0.00000\n",
      "INFO:__main__:[1,  4417] loss: 0.00000\n",
      "INFO:__main__:[1,  4449] loss: 0.00000\n",
      "INFO:__main__:[1,  4481] loss: 0.00000\n",
      "INFO:__main__:[1,  4513] loss: 0.00000\n",
      "INFO:__main__:[1,  4545] loss: 0.00000\n",
      "INFO:__main__:[1,  4577] loss: 0.00000\n",
      "INFO:__main__:[1,  4609] loss: 0.00000\n",
      "INFO:__main__:[1,  4641] loss: 0.00000\n",
      "INFO:__main__:[1,  4673] loss: 0.00000\n",
      "INFO:__main__:[1,  4705] loss: 0.00000\n",
      "INFO:__main__:[1,  4737] loss: 0.00000\n",
      "INFO:__main__:[1,  4769] loss: 0.00000\n",
      "INFO:__main__:[1,  4801] loss: 0.00000\n",
      "INFO:__main__:[1,  4833] loss: 0.00000\n",
      "INFO:__main__:[1,  4865] loss: 0.00000\n",
      "INFO:__main__:[1,  4897] loss: 0.00000\n",
      "INFO:__main__:[2,     1] loss: 1.44139\n",
      "INFO:__main__:[2,    33] loss: 0.92551\n",
      "INFO:__main__:[2,    65] loss: 0.00000\n",
      "INFO:__main__:[2,    97] loss: 0.00000\n",
      "INFO:__main__:[2,   129] loss: 0.00000\n",
      "INFO:__main__:[2,   161] loss: 0.00000\n",
      "INFO:__main__:[2,   193] loss: 0.00000\n",
      "INFO:__main__:[2,   225] loss: 0.00000\n",
      "INFO:__main__:[2,   257] loss: 0.00000\n",
      "INFO:__main__:[2,   289] loss: 0.00000\n",
      "INFO:__main__:[2,   321] loss: 0.00000\n",
      "INFO:__main__:[2,   353] loss: 0.00000\n",
      "INFO:__main__:[2,   385] loss: 0.00000\n",
      "INFO:__main__:[2,   417] loss: 0.00000\n",
      "INFO:__main__:[2,   449] loss: 0.00000\n",
      "INFO:__main__:[2,   481] loss: 0.00000\n",
      "INFO:__main__:[2,   513] loss: 0.00000\n",
      "INFO:__main__:[2,   545] loss: 1.64987\n",
      "INFO:__main__:[2,   577] loss: 0.00000\n",
      "INFO:__main__:[2,   609] loss: 0.00000\n",
      "INFO:__main__:[2,   641] loss: 2.17379\n",
      "INFO:__main__:[2,   673] loss: 0.00059\n",
      "INFO:__main__:[2,   705] loss: 0.00000\n",
      "INFO:__main__:[2,   737] loss: 0.00000\n",
      "INFO:__main__:[2,   769] loss: 0.00000\n",
      "INFO:__main__:[2,   801] loss: 0.00000\n",
      "INFO:__main__:[2,   833] loss: 0.00000\n",
      "INFO:__main__:[2,   865] loss: 0.00002\n",
      "INFO:__main__:[2,   897] loss: 0.00008\n",
      "INFO:__main__:[2,   929] loss: 1.55008\n",
      "INFO:__main__:[2,   961] loss: 0.11159\n",
      "INFO:__main__:[2,   993] loss: 0.00000\n",
      "INFO:__main__:[2,  1025] loss: 0.00000\n",
      "INFO:__main__:[2,  1057] loss: 0.00000\n",
      "INFO:__main__:[2,  1089] loss: 0.00000\n",
      "INFO:__main__:[2,  1121] loss: 0.00000\n",
      "INFO:__main__:[2,  1153] loss: 0.00000\n",
      "INFO:__main__:[2,  1185] loss: 0.00000\n",
      "INFO:__main__:[2,  1217] loss: 0.00000\n",
      "INFO:__main__:[2,  1249] loss: 0.00000\n",
      "INFO:__main__:[2,  1281] loss: 0.00000\n",
      "INFO:__main__:[2,  1313] loss: 0.00000\n",
      "INFO:__main__:[2,  1345] loss: 0.00000\n",
      "INFO:__main__:[2,  1377] loss: 0.00000\n",
      "INFO:__main__:[2,  1409] loss: 0.00000\n",
      "INFO:__main__:[2,  1441] loss: 0.00000\n",
      "INFO:__main__:[2,  1473] loss: 0.00000\n",
      "INFO:__main__:[2,  1505] loss: 0.00000\n",
      "INFO:__main__:[2,  1537] loss: 0.00000\n",
      "INFO:__main__:[2,  1569] loss: 0.00000\n",
      "INFO:__main__:[2,  1601] loss: 0.00000\n",
      "INFO:__main__:[2,  1633] loss: 0.00000\n",
      "INFO:__main__:[2,  1665] loss: 0.00000\n",
      "INFO:__main__:[2,  1697] loss: 0.00000\n",
      "INFO:__main__:[2,  1729] loss: 0.00000\n",
      "INFO:__main__:[2,  1761] loss: 0.00000\n",
      "INFO:__main__:[2,  1793] loss: 0.00000\n",
      "INFO:__main__:[2,  1825] loss: 0.00000\n",
      "INFO:__main__:[2,  1857] loss: 0.00000\n",
      "INFO:__main__:[2,  1889] loss: 0.00000\n",
      "INFO:__main__:[2,  1921] loss: 0.00000\n",
      "INFO:__main__:[2,  1953] loss: 0.00000\n",
      "INFO:__main__:[2,  1985] loss: 0.00000\n",
      "INFO:__main__:[2,  2017] loss: 0.00000\n",
      "INFO:__main__:[2,  2049] loss: 0.00000\n",
      "INFO:__main__:[2,  2081] loss: 0.00000\n",
      "INFO:__main__:[2,  2113] loss: 0.00000\n",
      "INFO:__main__:[2,  2145] loss: 0.00000\n",
      "INFO:__main__:[2,  2177] loss: 0.00000\n",
      "INFO:__main__:[2,  2209] loss: 0.00000\n",
      "INFO:__main__:[2,  2241] loss: 0.00000\n",
      "INFO:__main__:[2,  2273] loss: 0.00000\n",
      "INFO:__main__:[2,  2305] loss: 0.00000\n",
      "INFO:__main__:[2,  2337] loss: 0.00000\n",
      "INFO:__main__:[2,  2369] loss: 0.00000\n",
      "INFO:__main__:[2,  2401] loss: 0.00000\n",
      "INFO:__main__:[2,  2433] loss: 0.00000\n",
      "INFO:__main__:[2,  2465] loss: 0.00000\n",
      "INFO:__main__:[2,  2497] loss: 0.00000\n",
      "INFO:__main__:[2,  2529] loss: 0.00000\n",
      "INFO:__main__:[2,  2561] loss: 0.00000\n",
      "INFO:__main__:[2,  2593] loss: 0.00000\n",
      "INFO:__main__:[2,  2625] loss: 0.00000\n",
      "INFO:__main__:[2,  2657] loss: 0.00000\n",
      "INFO:__main__:[2,  2689] loss: 0.00000\n",
      "INFO:__main__:[2,  2721] loss: 0.00000\n",
      "INFO:__main__:[2,  2753] loss: 0.00000\n",
      "INFO:__main__:[2,  2785] loss: 0.00000\n",
      "INFO:__main__:[2,  2817] loss: 0.00000\n",
      "INFO:__main__:[2,  2849] loss: 1.89929\n",
      "INFO:__main__:[2,  2881] loss: 0.00000\n",
      "INFO:__main__:[2,  2913] loss: 0.00000\n",
      "INFO:__main__:[2,  2945] loss: 0.00000\n",
      "INFO:__main__:[2,  2977] loss: 0.00000\n",
      "INFO:__main__:[2,  3009] loss: 0.00000\n",
      "INFO:__main__:[2,  3041] loss: 0.00000\n",
      "INFO:__main__:[2,  3073] loss: 0.00000\n",
      "INFO:__main__:[2,  3105] loss: 0.00000\n",
      "INFO:__main__:[2,  3137] loss: 0.00000\n",
      "INFO:__main__:[2,  3169] loss: 0.00000\n",
      "INFO:__main__:[2,  3201] loss: 0.00000\n",
      "INFO:__main__:[2,  3233] loss: 0.00000\n",
      "INFO:__main__:[2,  3265] loss: 0.00000\n",
      "INFO:__main__:[2,  3297] loss: 0.00000\n",
      "INFO:__main__:[2,  3329] loss: 0.00000\n",
      "INFO:__main__:[2,  3361] loss: 0.00000\n",
      "INFO:__main__:[2,  3393] loss: 0.00000\n",
      "INFO:__main__:[2,  3425] loss: 0.00000\n",
      "INFO:__main__:[2,  3457] loss: 0.00000\n",
      "INFO:__main__:[2,  3489] loss: 0.00000\n",
      "INFO:__main__:[2,  3521] loss: 0.00000\n",
      "INFO:__main__:[2,  3553] loss: 0.00000\n",
      "INFO:__main__:[2,  3585] loss: 0.00000\n",
      "INFO:__main__:[2,  3617] loss: 1.15479\n",
      "INFO:__main__:[2,  3649] loss: 0.78209\n",
      "INFO:__main__:[2,  3681] loss: 0.00000\n",
      "INFO:__main__:[2,  3713] loss: 0.00081\n",
      "INFO:__main__:[2,  3745] loss: 0.00001\n",
      "INFO:__main__:[2,  3777] loss: 0.00000\n",
      "INFO:__main__:[2,  3809] loss: 0.00000\n",
      "INFO:__main__:[2,  3841] loss: 0.00000\n",
      "INFO:__main__:[2,  3873] loss: 0.00000\n",
      "INFO:__main__:[2,  3905] loss: 12.25527\n",
      "INFO:__main__:[2,  3937] loss: 0.16067\n",
      "INFO:__main__:[2,  3969] loss: 0.09181\n",
      "INFO:__main__:[2,  4001] loss: 0.01057\n",
      "INFO:__main__:[2,  4033] loss: 0.00101\n",
      "INFO:__main__:[2,  4065] loss: 0.00149\n",
      "INFO:__main__:[2,  4097] loss: 0.00010\n",
      "INFO:__main__:[2,  4129] loss: 0.01066\n",
      "INFO:__main__:[2,  4161] loss: 0.00004\n",
      "INFO:__main__:[2,  4193] loss: 0.00001\n",
      "INFO:__main__:[2,  4225] loss: 0.00286\n",
      "INFO:__main__:[2,  4257] loss: 0.00071\n",
      "INFO:__main__:[2,  4289] loss: 0.00000\n",
      "INFO:__main__:[2,  4321] loss: 0.00052\n",
      "INFO:__main__:[2,  4353] loss: 0.00000\n",
      "INFO:__main__:[2,  4385] loss: 0.00103\n",
      "INFO:__main__:[2,  4417] loss: 0.00000\n",
      "INFO:__main__:[2,  4449] loss: 0.00000\n",
      "INFO:__main__:[2,  4481] loss: 0.00001\n",
      "INFO:__main__:[2,  4513] loss: 0.01032\n",
      "INFO:__main__:[2,  4545] loss: 0.00172\n",
      "INFO:__main__:[2,  4577] loss: 0.00000\n",
      "INFO:__main__:[2,  4609] loss: 0.00000\n",
      "INFO:__main__:[2,  4641] loss: 0.00003\n",
      "INFO:__main__:[2,  4673] loss: 0.00025\n",
      "INFO:__main__:[2,  4705] loss: 0.00000\n",
      "INFO:__main__:[2,  4737] loss: 0.00003\n",
      "INFO:__main__:[2,  4769] loss: 0.00002\n",
      "INFO:__main__:[2,  4801] loss: 0.00000\n",
      "INFO:__main__:[2,  4833] loss: 0.00000\n",
      "INFO:__main__:[2,  4865] loss: 0.00002\n",
      "INFO:__main__:[2,  4897] loss: 0.00003\n",
      "INFO:__main__:[3,     1] loss: 7.26939\n",
      "INFO:__main__:[3,    33] loss: 0.44829\n",
      "INFO:__main__:[3,    65] loss: 0.00000\n",
      "INFO:__main__:[3,    97] loss: 0.00000\n",
      "INFO:__main__:[3,   129] loss: 0.00000\n",
      "INFO:__main__:[3,   161] loss: 0.00158\n",
      "INFO:__main__:[3,   193] loss: 0.00004\n",
      "INFO:__main__:[3,   225] loss: 0.00113\n",
      "INFO:__main__:[3,   257] loss: 0.00400\n",
      "INFO:__main__:[3,   289] loss: 0.00003\n",
      "INFO:__main__:[3,   321] loss: 0.00066\n",
      "INFO:__main__:[3,   353] loss: 0.00000\n",
      "INFO:__main__:[3,   385] loss: 0.00008\n",
      "INFO:__main__:[3,   417] loss: 0.00000\n",
      "INFO:__main__:[3,   449] loss: 0.00000\n",
      "INFO:__main__:[3,   481] loss: 0.00000\n",
      "INFO:__main__:[3,   513] loss: 0.00000\n",
      "INFO:__main__:[3,   545] loss: 4.65601\n",
      "INFO:__main__:[3,   577] loss: 0.00067\n",
      "INFO:__main__:[3,   609] loss: 0.00000\n",
      "INFO:__main__:[3,   641] loss: 1.57597\n",
      "INFO:__main__:[3,   673] loss: 0.01202\n",
      "INFO:__main__:[3,   705] loss: 0.00003\n",
      "INFO:__main__:[3,   737] loss: 0.00011\n",
      "INFO:__main__:[3,   769] loss: 0.00019\n",
      "INFO:__main__:[3,   801] loss: 0.00003\n",
      "INFO:__main__:[3,   833] loss: 0.00005\n",
      "INFO:__main__:[3,   865] loss: 0.00016\n",
      "INFO:__main__:[3,   897] loss: 0.00000\n",
      "INFO:__main__:[3,   929] loss: 1.41844\n",
      "INFO:__main__:[3,   961] loss: 0.00001\n",
      "INFO:__main__:[3,   993] loss: 0.00000\n",
      "INFO:__main__:[3,  1025] loss: 0.00000\n",
      "INFO:__main__:[3,  1057] loss: 0.00000\n",
      "INFO:__main__:[3,  1089] loss: 0.00000\n",
      "INFO:__main__:[3,  1121] loss: 0.00000\n",
      "INFO:__main__:[3,  1153] loss: 0.00000\n",
      "INFO:__main__:[3,  1185] loss: 0.00000\n",
      "INFO:__main__:[3,  1217] loss: 0.00000\n",
      "INFO:__main__:[3,  1249] loss: 0.00000\n",
      "INFO:__main__:[3,  1281] loss: 0.00000\n",
      "INFO:__main__:[3,  1313] loss: 0.00000\n",
      "INFO:__main__:[3,  1345] loss: 0.00000\n",
      "INFO:__main__:[3,  1377] loss: 0.00000\n",
      "INFO:__main__:[3,  1409] loss: 0.00000\n",
      "INFO:__main__:[3,  1441] loss: 0.00000\n",
      "INFO:__main__:[3,  1473] loss: 0.00000\n",
      "INFO:__main__:[3,  1505] loss: 0.00000\n",
      "INFO:__main__:[3,  1537] loss: 0.00000\n",
      "INFO:__main__:[3,  1569] loss: 0.00000\n",
      "INFO:__main__:[3,  1601] loss: 0.00000\n",
      "INFO:__main__:[3,  1633] loss: 0.00000\n",
      "INFO:__main__:[3,  1665] loss: 0.00000\n",
      "INFO:__main__:[3,  1697] loss: 0.00000\n",
      "INFO:__main__:[3,  1729] loss: 0.00000\n",
      "INFO:__main__:[3,  1761] loss: 0.00000\n",
      "INFO:__main__:[3,  1793] loss: 0.00000\n",
      "INFO:__main__:[3,  1825] loss: 0.00000\n",
      "INFO:__main__:[3,  1857] loss: 0.00000\n",
      "INFO:__main__:[3,  1889] loss: 0.00000\n",
      "INFO:__main__:[3,  1921] loss: 0.00000\n",
      "INFO:__main__:[3,  1953] loss: 0.00000\n",
      "INFO:__main__:[3,  1985] loss: 0.00000\n",
      "INFO:__main__:[3,  2017] loss: 0.00000\n",
      "INFO:__main__:[3,  2049] loss: 0.00000\n",
      "INFO:__main__:[3,  2081] loss: 0.00000\n",
      "INFO:__main__:[3,  2113] loss: 0.00000\n",
      "INFO:__main__:[3,  2145] loss: 0.00000\n",
      "INFO:__main__:[3,  2177] loss: 0.00000\n",
      "INFO:__main__:[3,  2209] loss: 0.00000\n",
      "INFO:__main__:[3,  2241] loss: 0.00000\n",
      "INFO:__main__:[3,  2273] loss: 0.00000\n",
      "INFO:__main__:[3,  2305] loss: 0.00000\n",
      "INFO:__main__:[3,  2337] loss: 0.00000\n",
      "INFO:__main__:[3,  2369] loss: 0.00000\n",
      "INFO:__main__:[3,  2401] loss: 0.00000\n",
      "INFO:__main__:[3,  2433] loss: 0.00000\n",
      "INFO:__main__:[3,  2465] loss: 0.00000\n",
      "INFO:__main__:[3,  2497] loss: 0.00000\n",
      "INFO:__main__:[3,  2529] loss: 0.00000\n",
      "INFO:__main__:[3,  2561] loss: 0.00000\n",
      "INFO:__main__:[3,  2593] loss: 0.00000\n",
      "INFO:__main__:[3,  2625] loss: 0.00000\n",
      "INFO:__main__:[3,  2657] loss: 0.00000\n",
      "INFO:__main__:[3,  2689] loss: 0.00000\n",
      "INFO:__main__:[3,  2721] loss: 0.00000\n",
      "INFO:__main__:[3,  2753] loss: 0.00000\n",
      "INFO:__main__:[3,  2785] loss: 0.00000\n",
      "INFO:__main__:[3,  2817] loss: 0.00000\n",
      "INFO:__main__:[3,  2849] loss: 5.34711\n",
      "INFO:__main__:[3,  2881] loss: 0.00000\n",
      "INFO:__main__:[3,  2913] loss: 0.00000\n",
      "INFO:__main__:[3,  2945] loss: 0.00000\n",
      "INFO:__main__:[3,  2977] loss: 0.05089\n",
      "INFO:__main__:[3,  3009] loss: 0.00000\n",
      "INFO:__main__:[3,  3041] loss: 0.00000\n",
      "INFO:__main__:[3,  3073] loss: 0.00000\n",
      "INFO:__main__:[3,  3105] loss: 0.00000\n",
      "INFO:__main__:[3,  3137] loss: 0.00000\n",
      "INFO:__main__:[3,  3169] loss: 0.00000\n",
      "INFO:__main__:[3,  3201] loss: 0.00000\n",
      "INFO:__main__:[3,  3233] loss: 0.00000\n",
      "INFO:__main__:[3,  3265] loss: 0.00000\n",
      "INFO:__main__:[3,  3297] loss: 0.00000\n",
      "INFO:__main__:[3,  3329] loss: 0.00000\n",
      "INFO:__main__:[3,  3361] loss: 0.00000\n",
      "INFO:__main__:[3,  3393] loss: 0.00000\n",
      "INFO:__main__:[3,  3425] loss: 0.00000\n",
      "INFO:__main__:[3,  3457] loss: 0.00000\n",
      "INFO:__main__:[3,  3489] loss: 0.00000\n",
      "INFO:__main__:[3,  3521] loss: 0.00000\n",
      "INFO:__main__:[3,  3553] loss: 0.00000\n",
      "INFO:__main__:[3,  3585] loss: 0.00000\n",
      "INFO:__main__:[3,  3617] loss: 11.76077\n",
      "INFO:__main__:[3,  3649] loss: 0.38164\n",
      "INFO:__main__:[3,  3681] loss: 0.00000\n",
      "INFO:__main__:[3,  3713] loss: 0.00000\n",
      "INFO:__main__:[3,  3745] loss: 0.00000\n",
      "INFO:__main__:[3,  3777] loss: 0.00004\n",
      "INFO:__main__:[3,  3809] loss: 0.00003\n",
      "INFO:__main__:[3,  3841] loss: 0.00000\n",
      "INFO:__main__:[3,  3873] loss: 0.00000\n",
      "INFO:__main__:[3,  3905] loss: 2.46366\n",
      "INFO:__main__:[3,  3937] loss: 0.03946\n",
      "INFO:__main__:[3,  3969] loss: 0.01067\n",
      "INFO:__main__:[3,  4001] loss: 0.00001\n",
      "INFO:__main__:[3,  4033] loss: 0.00001\n",
      "INFO:__main__:[3,  4065] loss: 0.00923\n",
      "INFO:__main__:[3,  4097] loss: 0.00000\n",
      "INFO:__main__:[3,  4129] loss: 0.00002\n",
      "INFO:__main__:[3,  4161] loss: 0.00000\n",
      "INFO:__main__:[3,  4193] loss: 0.00002\n",
      "INFO:__main__:[3,  4225] loss: 0.00141\n",
      "INFO:__main__:[3,  4257] loss: 0.00000\n",
      "INFO:__main__:[3,  4289] loss: 0.00000\n",
      "INFO:__main__:[3,  4321] loss: 0.00000\n",
      "INFO:__main__:[3,  4353] loss: 0.00021\n",
      "INFO:__main__:[3,  4385] loss: 0.00000\n",
      "INFO:__main__:[3,  4417] loss: 0.00011\n",
      "INFO:__main__:[3,  4449] loss: 0.00000\n",
      "INFO:__main__:[3,  4481] loss: 0.00000\n",
      "INFO:__main__:[3,  4513] loss: 0.00000\n",
      "INFO:__main__:[3,  4545] loss: 0.00100\n",
      "INFO:__main__:[3,  4577] loss: 0.00000\n",
      "INFO:__main__:[3,  4609] loss: 0.00001\n",
      "INFO:__main__:[3,  4641] loss: 0.00000\n",
      "INFO:__main__:[3,  4673] loss: 0.00000\n",
      "INFO:__main__:[3,  4705] loss: 0.00001\n",
      "INFO:__main__:[3,  4737] loss: 0.00000\n",
      "INFO:__main__:[3,  4769] loss: 0.00002\n",
      "INFO:__main__:[3,  4801] loss: 0.00000\n",
      "INFO:__main__:[3,  4833] loss: 0.00000\n",
      "INFO:__main__:[3,  4865] loss: 0.00000\n",
      "INFO:__main__:[3,  4897] loss: 0.00000\n",
      "INFO:__main__:[4,     1] loss: 2.38537\n",
      "INFO:__main__:[4,    33] loss: 1.39676\n",
      "INFO:__main__:[4,    65] loss: 0.04598\n",
      "INFO:__main__:[4,    97] loss: 0.02089\n",
      "INFO:__main__:[4,   129] loss: 0.01696\n",
      "INFO:__main__:[4,   161] loss: 0.05271\n",
      "INFO:__main__:[4,   193] loss: 0.00612\n",
      "INFO:__main__:[4,   225] loss: 0.00106\n",
      "INFO:__main__:[4,   257] loss: 0.00080\n",
      "INFO:__main__:[4,   289] loss: 0.00035\n",
      "INFO:__main__:[4,   321] loss: 0.00031\n",
      "INFO:__main__:[4,   353] loss: 0.00030\n",
      "INFO:__main__:[4,   385] loss: 0.01067\n",
      "INFO:__main__:[4,   417] loss: 0.00035\n",
      "INFO:__main__:[4,   449] loss: 0.00440\n",
      "INFO:__main__:[4,   481] loss: 0.01277\n",
      "INFO:__main__:[4,   513] loss: 0.00014\n",
      "INFO:__main__:[4,   545] loss: 2.75952\n",
      "INFO:__main__:[4,   577] loss: 0.01261\n",
      "INFO:__main__:[4,   609] loss: 0.00974\n",
      "INFO:__main__:[4,   641] loss: 1.86345\n",
      "INFO:__main__:[4,   673] loss: 0.18698\n",
      "INFO:__main__:[4,   705] loss: 0.02545\n",
      "INFO:__main__:[4,   737] loss: 0.02189\n",
      "INFO:__main__:[4,   769] loss: 0.01755\n",
      "INFO:__main__:[4,   801] loss: 0.00001\n",
      "INFO:__main__:[4,   833] loss: 0.02073\n",
      "INFO:__main__:[4,   865] loss: 0.00040\n",
      "INFO:__main__:[4,   897] loss: 0.02750\n",
      "INFO:__main__:[4,   929] loss: 2.93858\n",
      "INFO:__main__:[4,   961] loss: 0.01973\n",
      "INFO:__main__:[4,   993] loss: 0.00619\n",
      "INFO:__main__:[4,  1025] loss: 0.00450\n",
      "INFO:__main__:[4,  1057] loss: 0.00004\n",
      "INFO:__main__:[4,  1089] loss: 0.00250\n",
      "INFO:__main__:[4,  1121] loss: 0.00105\n",
      "INFO:__main__:[4,  1153] loss: 0.00072\n",
      "INFO:__main__:[4,  1185] loss: 0.00004\n",
      "INFO:__main__:[4,  1217] loss: 0.00269\n",
      "INFO:__main__:[4,  1249] loss: 0.00002\n",
      "INFO:__main__:[4,  1281] loss: 0.00136\n",
      "INFO:__main__:[4,  1313] loss: 0.00089\n",
      "INFO:__main__:[4,  1345] loss: 0.00012\n",
      "INFO:__main__:[4,  1377] loss: 0.00005\n",
      "INFO:__main__:[4,  1409] loss: 0.00010\n",
      "INFO:__main__:[4,  1441] loss: 0.00040\n",
      "INFO:__main__:[4,  1473] loss: 0.00045\n",
      "INFO:__main__:[4,  1505] loss: 0.00025\n",
      "INFO:__main__:[4,  1537] loss: 0.00172\n",
      "INFO:__main__:[4,  1569] loss: 0.00023\n",
      "INFO:__main__:[4,  1601] loss: 0.00000\n",
      "INFO:__main__:[4,  1633] loss: 0.00018\n",
      "INFO:__main__:[4,  1665] loss: 0.00195\n",
      "INFO:__main__:[4,  1697] loss: 0.00124\n",
      "INFO:__main__:[4,  1729] loss: 0.00048\n",
      "INFO:__main__:[4,  1761] loss: 0.00000\n",
      "INFO:__main__:[4,  1793] loss: 0.00000\n",
      "INFO:__main__:[4,  1825] loss: 0.00007\n",
      "INFO:__main__:[4,  1857] loss: 0.00000\n",
      "INFO:__main__:[4,  1889] loss: 0.00000\n",
      "INFO:__main__:[4,  1921] loss: 0.00000\n",
      "INFO:__main__:[4,  1953] loss: 0.00000\n",
      "INFO:__main__:[4,  1985] loss: 0.00000\n",
      "INFO:__main__:[4,  2017] loss: 0.00001\n",
      "INFO:__main__:[4,  2049] loss: 0.00031\n",
      "INFO:__main__:[4,  2081] loss: 0.00018\n",
      "INFO:__main__:[4,  2113] loss: 0.00055\n",
      "INFO:__main__:[4,  2145] loss: 0.00028\n",
      "INFO:__main__:[4,  2177] loss: 0.00000\n",
      "INFO:__main__:[4,  2209] loss: 0.00026\n",
      "INFO:__main__:[4,  2241] loss: 0.00000\n",
      "INFO:__main__:[4,  2273] loss: 0.00000\n",
      "INFO:__main__:[4,  2305] loss: 0.00019\n",
      "INFO:__main__:[4,  2337] loss: 0.00047\n",
      "INFO:__main__:[4,  2369] loss: 0.00000\n",
      "INFO:__main__:[4,  2401] loss: 0.00015\n",
      "INFO:__main__:[4,  2433] loss: 0.00000\n",
      "INFO:__main__:[4,  2465] loss: 0.00010\n",
      "INFO:__main__:[4,  2497] loss: 0.00000\n",
      "INFO:__main__:[4,  2529] loss: 0.00017\n",
      "INFO:__main__:[4,  2561] loss: 0.00000\n",
      "INFO:__main__:[4,  2593] loss: 0.00000\n",
      "INFO:__main__:[4,  2625] loss: 0.00000\n",
      "INFO:__main__:[4,  2657] loss: 0.00000\n",
      "INFO:__main__:[4,  2689] loss: 0.00000\n",
      "INFO:__main__:[4,  2721] loss: 0.00000\n",
      "INFO:__main__:[4,  2753] loss: 0.00008\n",
      "INFO:__main__:[4,  2785] loss: 0.00000\n",
      "INFO:__main__:[4,  2817] loss: 0.00060\n",
      "INFO:__main__:[4,  2849] loss: 1.88798\n",
      "INFO:__main__:[4,  2881] loss: 0.00000\n",
      "INFO:__main__:[4,  2913] loss: 0.00000\n",
      "INFO:__main__:[4,  2945] loss: 0.00000\n",
      "INFO:__main__:[4,  2977] loss: 0.00000\n",
      "INFO:__main__:[4,  3009] loss: 0.00000\n",
      "INFO:__main__:[4,  3041] loss: 0.00000\n",
      "INFO:__main__:[4,  3073] loss: 0.00000\n",
      "INFO:__main__:[4,  3105] loss: 0.00000\n",
      "INFO:__main__:[4,  3137] loss: 0.00000\n",
      "INFO:__main__:[4,  3169] loss: 0.00000\n",
      "INFO:__main__:[4,  3201] loss: 0.00000\n",
      "INFO:__main__:[4,  3233] loss: 0.00000\n",
      "INFO:__main__:[4,  3265] loss: 0.00000\n",
      "INFO:__main__:[4,  3297] loss: 0.00000\n",
      "INFO:__main__:[4,  3329] loss: 0.00000\n",
      "INFO:__main__:[4,  3361] loss: 0.00000\n",
      "INFO:__main__:[4,  3393] loss: 0.00000\n",
      "INFO:__main__:[4,  3425] loss: 0.00000\n",
      "INFO:__main__:[4,  3457] loss: 0.00000\n",
      "INFO:__main__:[4,  3489] loss: 0.00000\n",
      "INFO:__main__:[4,  3521] loss: 0.00000\n",
      "INFO:__main__:[4,  3553] loss: 0.00000\n",
      "INFO:__main__:[4,  3585] loss: 0.00000\n",
      "INFO:__main__:[4,  3617] loss: 1.11238\n",
      "INFO:__main__:[4,  3649] loss: 1.08214\n",
      "INFO:__main__:[4,  3681] loss: 0.00001\n",
      "INFO:__main__:[4,  3713] loss: 0.00001\n",
      "INFO:__main__:[4,  3745] loss: 0.00000\n",
      "INFO:__main__:[4,  3777] loss: 0.00000\n",
      "INFO:__main__:[4,  3809] loss: 0.00001\n",
      "INFO:__main__:[4,  3841] loss: 0.00014\n",
      "INFO:__main__:[4,  3873] loss: 0.00034\n",
      "INFO:__main__:[4,  3905] loss: 1.98123\n",
      "INFO:__main__:[4,  3937] loss: 0.06393\n",
      "INFO:__main__:[4,  3969] loss: 0.03519\n",
      "INFO:__main__:[4,  4001] loss: 0.01036\n",
      "INFO:__main__:[4,  4033] loss: 0.00065\n",
      "INFO:__main__:[4,  4065] loss: 0.01807\n",
      "INFO:__main__:[4,  4097] loss: 0.00000\n",
      "INFO:__main__:[4,  4129] loss: 0.00000\n",
      "INFO:__main__:[4,  4161] loss: 0.00000\n",
      "INFO:__main__:[4,  4193] loss: 0.00000\n",
      "INFO:__main__:[4,  4225] loss: 0.00001\n",
      "INFO:__main__:[4,  4257] loss: 0.00000\n",
      "INFO:__main__:[4,  4289] loss: 0.00000\n",
      "INFO:__main__:[4,  4321] loss: 0.00002\n",
      "INFO:__main__:[4,  4353] loss: 0.00000\n",
      "INFO:__main__:[4,  4385] loss: 0.00000\n",
      "INFO:__main__:[4,  4417] loss: 0.00000\n",
      "INFO:__main__:[4,  4449] loss: 0.00000\n",
      "INFO:__main__:[4,  4481] loss: 0.00000\n",
      "INFO:__main__:[4,  4513] loss: 0.00000\n",
      "INFO:__main__:[4,  4545] loss: 0.00000\n",
      "INFO:__main__:[4,  4577] loss: 0.00000\n",
      "INFO:__main__:[4,  4609] loss: 0.00000\n",
      "INFO:__main__:[4,  4641] loss: 0.00087\n",
      "INFO:__main__:[4,  4673] loss: 0.00005\n",
      "INFO:__main__:[4,  4705] loss: 0.00000\n",
      "INFO:__main__:[4,  4737] loss: 0.00000\n",
      "INFO:__main__:[4,  4769] loss: 0.00000\n",
      "INFO:__main__:[4,  4801] loss: 0.00004\n",
      "INFO:__main__:[4,  4833] loss: 0.01730\n",
      "INFO:__main__:[4,  4865] loss: 0.00000\n",
      "INFO:__main__:[4,  4897] loss: 0.01832\n"
     ]
    },
    {
     "name": "stdout",
     "output_type": "stream",
     "text": [
      "Finished Training: total time in seconds = 90.0901050567627\n"
     ]
    }
   ],
   "source": [
    "import time\n",
    "\n",
    "\n",
    "t0 = time.time()\n",
    "\n",
    "net = EmotionRecMLP(8712, 2500, 1200, 500, 7)\n",
    "net = net.float()\n",
    "net.to(device)\n",
    "\n",
    "\n",
    "criterion = nn.CrossEntropyLoss()\n",
    "optimizer = optim.SGD(net.parameters(), lr=0.01, momentum=0.9)\n",
    "\n",
    "for epoch in range(4):  # loop over the training set two times\n",
    "\n",
    "    running_loss = 0.0\n",
    "    for i, data_batch in enumerate(my_dataloader, 0):\n",
    "        # get the inputs; data is a list of [inputs, labels]\n",
    "        inputs, labels = data_batch[0].to(device), data_batch[1].to(device)\n",
    "\n",
    "        # zero the parameter gradients\n",
    "        optimizer.zero_grad()\n",
    "\n",
    "        # forward + backward + optimize\n",
    "        outputs = net(inputs)\n",
    "        loss = criterion(outputs, labels)\n",
    "        loss.backward()\n",
    "        optimizer.step()\n",
    "\n",
    "        # print statistics (loss.item() returns the mean loss in the mini-batch)\n",
    "        running_loss += loss.item()\n",
    "        if i % 32 == 0:\n",
    "            logger.info('[%d, %5d] loss: %.5f' %\n",
    "                  (epoch + 1, i + 1, running_loss / 32))\n",
    "            running_loss = 0.0\n",
    "\n",
    "print('Finished Training: total time in seconds =', time.time() - t0)"
   ]
  },
  {
   "cell_type": "code",
   "execution_count": 129,
   "id": "adb2980b",
   "metadata": {},
   "outputs": [],
   "source": [
    "model_path = \"..\\\\..\\\\Models\"\n",
    "model_name = f\"hog_mlp_{time.strftime('%Y-%m-%d %H-%S')}.pth\"\n",
    "\n",
    "model_file_name =  model_path + '/' + model_name\n",
    "torch.save(net.state_dict(),model_file_name)"
   ]
  },
  {
   "cell_type": "code",
   "execution_count": 130,
   "id": "aff2aac3",
   "metadata": {},
   "outputs": [
    {
     "data": {
      "text/plain": [
       "<All keys matched successfully>"
      ]
     },
     "execution_count": 130,
     "metadata": {},
     "output_type": "execute_result"
    }
   ],
   "source": [
    "net = EmotionRecMLP(8712, 2500, 1200, 500, 7)\n",
    "net.load_state_dict(torch.load(model_file_name))"
   ]
  },
  {
   "cell_type": "code",
   "execution_count": 131,
   "id": "22dd4aa5",
   "metadata": {},
   "outputs": [
    {
     "name": "stderr",
     "output_type": "stream",
     "text": [
      "INFO:__main__:Successfully loaded 2455 images\n"
     ]
    }
   ],
   "source": [
    "X_val, y_val = load_data(\"../../CW_Dataset\", \"val\", mode='sklearn')"
   ]
  },
  {
   "cell_type": "code",
   "execution_count": 132,
   "id": "a79ac82a",
   "metadata": {},
   "outputs": [
    {
     "name": "stderr",
     "output_type": "stream",
     "text": [
      "INFO:__main__:Beginning HOG transformations for 2455 images\n",
      "100%|██████████| 2455/2455 [00:54<00:00, 44.86it/s]\n"
     ]
    }
   ],
   "source": [
    "hog_arr_val = hog.fit_transform(X_val)"
   ]
  },
  {
   "cell_type": "code",
   "execution_count": 133,
   "id": "2325441c",
   "metadata": {},
   "outputs": [],
   "source": [
    "tensor_X_val = torch.tensor(hog_arr_val).float()"
   ]
  },
  {
   "cell_type": "code",
   "execution_count": 134,
   "id": "5a268e67",
   "metadata": {},
   "outputs": [],
   "source": [
    "tensor_y_val = torch.tensor(y_val)"
   ]
  },
  {
   "cell_type": "code",
   "execution_count": 135,
   "id": "9dffc41f",
   "metadata": {},
   "outputs": [],
   "source": [
    "val_dataset = data.TensorDataset(tensor_X_val, tensor_y_val)\n",
    "val_dataloader = data.DataLoader(val_dataset, batch_size=2, shuffle=True)"
   ]
  },
  {
   "cell_type": "code",
   "execution_count": 136,
   "id": "be4715cd",
   "metadata": {},
   "outputs": [],
   "source": [
    "valloader_iter = iter(val_dataloader)\n",
    "images, labels = valloader_iter.next()"
   ]
  },
  {
   "cell_type": "code",
   "execution_count": 137,
   "id": "771f39b0",
   "metadata": {},
   "outputs": [],
   "source": [
    "outputs = net(images)"
   ]
  },
  {
   "cell_type": "code",
   "execution_count": 138,
   "id": "8b121949",
   "metadata": {},
   "outputs": [],
   "source": [
    "_, predicted = torch.max(outputs, 1)"
   ]
  },
  {
   "cell_type": "code",
   "execution_count": 139,
   "id": "664d9206",
   "metadata": {
    "jupyter": {
     "source_hidden": true
    },
    "tags": []
   },
   "outputs": [
    {
     "data": {
      "text/plain": [
       "tensor([6, 6])"
      ]
     },
     "execution_count": 139,
     "metadata": {},
     "output_type": "execute_result"
    }
   ],
   "source": [
    "predicted"
   ]
  },
  {
   "cell_type": "code",
   "execution_count": 140,
   "id": "dc40db5a",
   "metadata": {},
   "outputs": [
    {
     "data": {
      "text/plain": [
       "tensor([6, 6])"
      ]
     },
     "execution_count": 140,
     "metadata": {},
     "output_type": "execute_result"
    }
   ],
   "source": [
    "labels"
   ]
  },
  {
   "cell_type": "code",
   "execution_count": 141,
   "id": "a5b179ab",
   "metadata": {},
   "outputs": [
    {
     "name": "stdout",
     "output_type": "stream",
     "text": [
      "Accuracy of the network on the validation images: 20.570264765784113%\n"
     ]
    }
   ],
   "source": [
    "# Estimate average accuracy\n",
    "correct = 0\n",
    "total = 0\n",
    "with torch.no_grad():             # Avoid backprop at test \n",
    "    for data_batch in val_dataloader:\n",
    "        images, labels = data_batch\n",
    "        outputs = net(images)\n",
    "        _, predicted = torch.max(outputs.data, 1)\n",
    "        total += labels.size(0)\n",
    "        correct += (predicted == labels).sum().item()\n",
    "\n",
    "print(f\"Accuracy of the network on the validation images: {100 * correct / total}%\")"
   ]
  },
  {
   "cell_type": "code",
   "execution_count": 82,
   "id": "10edf2b2",
   "metadata": {},
   "outputs": [
    {
     "data": {
      "text/plain": [
       "0.14285714285714285"
      ]
     },
     "execution_count": 82,
     "metadata": {},
     "output_type": "execute_result"
    }
   ],
   "source": [
    "1/7"
   ]
  },
  {
   "cell_type": "code",
   "execution_count": 247,
   "id": "54ba7179",
   "metadata": {},
   "outputs": [],
   "source": []
  },
  {
   "cell_type": "code",
   "execution_count": 203,
   "id": "e9d7476d",
   "metadata": {},
   "outputs": [
    {
     "name": "stderr",
     "output_type": "stream",
     "text": [
      "INFO:__main__:Loading 12271 images\n",
      "INFO:__main__:Successfully loaded 12271 images\n"
     ]
    }
   ],
   "source": [
    "X, y = load_data(\"../../CW_Dataset\", \"train\")\n",
    "\n",
    "X_train, X_val, y_train, y_val = train_test_split(X, y, test_size=0.2, shuffle=True, stratify=y)\n"
   ]
  }
 ],
 "metadata": {
  "kernelspec": {
   "display_name": "Python 3",
   "language": "python",
   "name": "python3"
  },
  "language_info": {
   "codemirror_mode": {
    "name": "ipython",
    "version": 3
   },
   "file_extension": ".py",
   "mimetype": "text/x-python",
   "name": "python",
   "nbconvert_exporter": "python",
   "pygments_lexer": "ipython3",
   "version": "3.8.5"
  }
 },
 "nbformat": 4,
 "nbformat_minor": 5
}
